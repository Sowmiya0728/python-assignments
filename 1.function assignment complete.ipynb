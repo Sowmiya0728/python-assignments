{
 "cells": [
  {
   "cell_type": "code",
   "execution_count": 5,
   "id": "be16eb93",
   "metadata": {},
   "outputs": [],
   "source": [
    "subfields_list=[\"Machine Learning\",\"Neural Networks\",\"Vision\",\"Robatics\",\"Speech Processing\",\"Natural Language Processing\"]"
   ]
  },
  {
   "cell_type": "code",
   "execution_count": 6,
   "id": "cc8d4ca2",
   "metadata": {},
   "outputs": [],
   "source": [
    "def print_subfields():\n",
    "    for subfield in subfields_list:\n",
    "        print(subfield)"
   ]
  },
  {
   "cell_type": "code",
   "execution_count": 7,
   "id": "6d5ca982",
   "metadata": {},
   "outputs": [
    {
     "name": "stdout",
     "output_type": "stream",
     "text": [
      "Machine Learning\n",
      "Neural Networks\n",
      "Vision\n",
      "Robatics\n",
      "Speech Processing\n",
      "Natural Language Processing\n"
     ]
    }
   ],
   "source": [
    "print_subfields()"
   ]
  },
  {
   "cell_type": "code",
   "execution_count": 8,
   "id": "4412a2eb",
   "metadata": {},
   "outputs": [],
   "source": [
    "def OddEven():\n",
    "    num=int(input(\"enter the number:\"))\n",
    "    if num%2==0:\n",
    "        return\"even number\"\n",
    "    else:\n",
    "        return\"odd number\" "
   ]
  },
  {
   "cell_type": "code",
   "execution_count": 9,
   "id": "531b590f",
   "metadata": {},
   "outputs": [
    {
     "name": "stdout",
     "output_type": "stream",
     "text": [
      "enter the number:52452\n"
     ]
    }
   ],
   "source": [
    "Output= OddEven()"
   ]
  },
  {
   "cell_type": "code",
   "execution_count": 10,
   "id": "b8740d04",
   "metadata": {},
   "outputs": [
    {
     "name": "stdout",
     "output_type": "stream",
     "text": [
      "The number is even\n"
     ]
    }
   ],
   "source": [
    "if Output==\"odd number\":\n",
    "    print(\"The number is odd\")\n",
    "else:\n",
    "    print(\"The number is even\")"
   ]
  },
  {
   "cell_type": "code",
   "execution_count": 12,
   "id": "c38c93e1",
   "metadata": {},
   "outputs": [],
   "source": [
    "def Elegible():\n",
    "    gender=input(\"Your Gender:\")\n",
    "    age=int(input(\"Your age:\"))\n",
    "    marriage= \"Not Elegible\"\n",
    "    if gender.lower()== 'male' and age>=21:\n",
    "        print(\"Elegible\")\n",
    "        marriage=\"Elegible\"\n",
    "    elif gender.lower()=='female' and age>18:\n",
    "        print(\"Elegible\")  \n",
    "        marriage=\"Elegible\"\n",
    "    else:\n",
    "        print(\"Not Elegible\")  \n",
    "    return marriage"
   ]
  },
  {
   "cell_type": "code",
   "execution_count": 14,
   "id": "d0c5d77c",
   "metadata": {},
   "outputs": [
    {
     "name": "stdout",
     "output_type": "stream",
     "text": [
      "Your Gender:male\n",
      "Your age:20\n",
      "Not Elegible\n"
     ]
    },
    {
     "data": {
      "text/plain": [
       "'Not Elegible'"
      ]
     },
     "execution_count": 14,
     "metadata": {},
     "output_type": "execute_result"
    }
   ],
   "source": [
    "Elegible()"
   ]
  },
  {
   "cell_type": "code",
   "execution_count": 3,
   "id": "0281c56a",
   "metadata": {},
   "outputs": [],
   "source": [
    "def percentage():\n",
    "    subject1=int(input(\"Subject1=\"))\n",
    "    subject2=int(input(\"Subject2=\"))\n",
    "    subject3=int(input(\"Subject3=\"))\n",
    "    subject4=int(input(\"Subject4=\"))\n",
    "    subject5=int(input(\"Subject5=\"))\n",
    "    total_marks= subject1+subject2+subject3+subject4+subject5\n",
    "    print(\"Total :\",total_marks)\n",
    "    total_percentage= total_marks/5\n",
    "    print(\"percentage:\",total_percentage)\n",
    "      "
   ]
  },
  {
   "cell_type": "code",
   "execution_count": 4,
   "id": "8b5d4362",
   "metadata": {},
   "outputs": [
    {
     "name": "stdout",
     "output_type": "stream",
     "text": [
      "Subject1=98\n",
      "Subject2=87\n",
      "Subject3=95\n",
      "Subject4=95\n",
      "Subject5=93\n",
      "Total : 468\n",
      "percentage: 93.6\n"
     ]
    }
   ],
   "source": [
    "percentage()"
   ]
  },
  {
   "cell_type": "code",
   "execution_count": 17,
   "id": "dd199552",
   "metadata": {},
   "outputs": [],
   "source": [
    "def traingle():\n",
    "    height=float(input(\"Height:\"))\n",
    "    breadth=float(input(\"Breadth:\"))\n",
    "    area=(height* breadth)/2\n",
    "    print(\"Area of Triangle:\" ,area)\n",
    "    height1=int(input(\"Height1:\"))\n",
    "    height2=int(input(\"Height2:\"))\n",
    "    breadth=int(input(\"Breadth:\"))\n",
    "    perimeter=height1+height2+breadth\n",
    "    print(\"Perimeter of Traingle:\",perimeter)\n",
    "    "
   ]
  },
  {
   "cell_type": "code",
   "execution_count": 18,
   "id": "dd005a8b",
   "metadata": {},
   "outputs": [
    {
     "name": "stdout",
     "output_type": "stream",
     "text": [
      "Height:32\n",
      "Breadth:34\n",
      "Area of Triangle: 544.0\n",
      "Height1:2\n",
      "Height2:4\n",
      "Breadth:4\n",
      "Perimeter of Traingle: 10\n"
     ]
    }
   ],
   "source": [
    "traingle()"
   ]
  },
  {
   "cell_type": "code",
   "execution_count": null,
   "id": "12fd2280",
   "metadata": {},
   "outputs": [],
   "source": []
  },
  {
   "cell_type": "code",
   "execution_count": null,
   "id": "fcd20e2e",
   "metadata": {},
   "outputs": [],
   "source": []
  },
  {
   "cell_type": "code",
   "execution_count": null,
   "id": "cdc896bc",
   "metadata": {},
   "outputs": [],
   "source": []
  }
 ],
 "metadata": {
  "kernelspec": {
   "display_name": "Python 3 (ipykernel)",
   "language": "python",
   "name": "python3"
  },
  "language_info": {
   "codemirror_mode": {
    "name": "ipython",
    "version": 3
   },
   "file_extension": ".py",
   "mimetype": "text/x-python",
   "name": "python",
   "nbconvert_exporter": "python",
   "pygments_lexer": "ipython3",
   "version": "3.11.5"
  }
 },
 "nbformat": 4,
 "nbformat_minor": 5
}
