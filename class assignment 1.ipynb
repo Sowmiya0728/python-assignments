{
 "cells": [
  {
   "cell_type": "code",
   "execution_count": 1,
   "id": "5797f834",
   "metadata": {},
   "outputs": [],
   "source": [
    "subfields_list=[\"Machine Learning\",\"Neural Networks\",\"Vision\",\"Robatics\",\"Speech Processing\",\"Natural Language Processing\"]"
   ]
  },
  {
   "cell_type": "code",
   "execution_count": 2,
   "id": "73a6bd6a",
   "metadata": {},
   "outputs": [],
   "source": [
    "class SubfieldsInAI():\n",
    "    def print_subfields():\n",
    "        print(\"Subfields inAI are:\")\n",
    "        for subfield in subfields_list:\n",
    "            print(subfield)"
   ]
  },
  {
   "cell_type": "code",
   "execution_count": 3,
   "id": "cb82f4ad",
   "metadata": {},
   "outputs": [
    {
     "name": "stdout",
     "output_type": "stream",
     "text": [
      "Subfields inAI are:\n",
      "Machine Learning\n",
      "Neural Networks\n",
      "Vision\n",
      "Robatics\n",
      "Speech Processing\n",
      "Natural Language Processing\n"
     ]
    }
   ],
   "source": [
    "SubfieldsInAI.print_subfields()"
   ]
  },
  {
   "cell_type": "code",
   "execution_count": 10,
   "id": "d74aabd1",
   "metadata": {},
   "outputs": [],
   "source": [
    "class OddEven():\n",
    "    def OddEven():\n",
    "        num=int(input(\"Enter a number:\"))\n",
    "        if num%2==0:\n",
    "            return\"even number\"\n",
    "        else:\n",
    "            return\"odd number\" \n",
    "        if Output==\"odd number\":\n",
    "            print(\"The number is odd\")\n",
    "        else:\n",
    "            print(\"The number is even\")"
   ]
  },
  {
   "cell_type": "code",
   "execution_count": 11,
   "id": "749e85d8",
   "metadata": {},
   "outputs": [
    {
     "name": "stdout",
     "output_type": "stream",
     "text": [
      "Enter a number:52452\n"
     ]
    },
    {
     "data": {
      "text/plain": [
       "'even number'"
      ]
     },
     "execution_count": 11,
     "metadata": {},
     "output_type": "execute_result"
    }
   ],
   "source": [
    "OddEven.OddEven()"
   ]
  },
  {
   "cell_type": "code",
   "execution_count": 12,
   "id": "75604940",
   "metadata": {},
   "outputs": [],
   "source": [
    "class ElegiblityForMarriage():\n",
    "    def Elegible():\n",
    "        gender=input(\"Your Gender:\")\n",
    "        age=int(input(\"Your age:\"))\n",
    "        marriage= \"Not Elegible\"\n",
    "        if gender.lower()== 'male' and age>=21:\n",
    "            print(\"Elegible\")\n",
    "            marriage=\"Elegible\"\n",
    "        elif gender.lower()=='female' and age>18:\n",
    "            print(\"Elegible\")  \n",
    "            marriage=\"Elegible\"\n",
    "        else:\n",
    "            print(\"Not Elegible\")  \n",
    "        return marriage"
   ]
  },
  {
   "cell_type": "code",
   "execution_count": 13,
   "id": "2bf47727",
   "metadata": {},
   "outputs": [
    {
     "name": "stdout",
     "output_type": "stream",
     "text": [
      "Your Gender:Male\n",
      "Your age:20\n",
      "Not Elegible\n"
     ]
    },
    {
     "data": {
      "text/plain": [
       "'Not Elegible'"
      ]
     },
     "execution_count": 13,
     "metadata": {},
     "output_type": "execute_result"
    }
   ],
   "source": [
    "ElegiblityForMarriage.Elegible()"
   ]
  },
  {
   "cell_type": "code",
   "execution_count": 15,
   "id": "24ccf1e0",
   "metadata": {},
   "outputs": [],
   "source": [
    "class FindPercent():\n",
    "    def percentage():\n",
    "        subject1=int(input(\"Subject1=\"))\n",
    "        subject2=int(input(\"Subject2=\"))\n",
    "        subject3=int(input(\"Subject3=\"))\n",
    "        subject4=int(input(\"Subject4=\"))\n",
    "        subject5=int(input(\"Subject5=\"))\n",
    "        total_marks= subject1+subject2+subject3+subject4+subject5\n",
    "        print(\"Total :\",total_marks)\n",
    "        total_percentage= total_marks/5\n",
    "        print(\"percentage:\",total_percentage)\n",
    "      "
   ]
  },
  {
   "cell_type": "code",
   "execution_count": 16,
   "id": "87aaea18",
   "metadata": {},
   "outputs": [
    {
     "name": "stdout",
     "output_type": "stream",
     "text": [
      "Subject1=98\n",
      "Subject2=87\n",
      "Subject3=95\n",
      "Subject4=95\n",
      "Subject5=93\n",
      "Total : 468\n",
      "percentage: 93.6\n"
     ]
    }
   ],
   "source": [
    "FindPercent.percentage()"
   ]
  },
  {
   "cell_type": "code",
   "execution_count": 17,
   "id": "286f9e0e",
   "metadata": {},
   "outputs": [],
   "source": [
    "class triangle():\n",
    "    def traingle():\n",
    "        height=float(input(\"Height:\"))\n",
    "        breadth=float(input(\"Breadth:\"))\n",
    "        area=(height* breadth)/2\n",
    "        print(\"Area of Triangle:\" ,area)\n",
    "        height1=int(input(\"Height1:\"))\n",
    "        height2=int(input(\"Height2:\"))\n",
    "        breadth=int(input(\"Breadth:\"))\n",
    "        perimeter=height1+height2+breadth\n",
    "        print(\"Perimeter of Traingle:\",perimeter)"
   ]
  },
  {
   "cell_type": "code",
   "execution_count": 18,
   "id": "6eb26ab8",
   "metadata": {},
   "outputs": [
    {
     "name": "stdout",
     "output_type": "stream",
     "text": [
      "Height:32\n",
      "Breadth:34\n",
      "Area of Triangle: 544.0\n",
      "Height1:2\n",
      "Height2:4\n",
      "Breadth:4\n",
      "Perimeter of Traingle: 10\n"
     ]
    }
   ],
   "source": [
    "triangle.traingle()"
   ]
  },
  {
   "cell_type": "code",
   "execution_count": null,
   "id": "123d0eca",
   "metadata": {},
   "outputs": [],
   "source": []
  },
  {
   "cell_type": "code",
   "execution_count": null,
   "id": "5a183685",
   "metadata": {},
   "outputs": [],
   "source": []
  },
  {
   "cell_type": "code",
   "execution_count": null,
   "id": "8c77dded",
   "metadata": {},
   "outputs": [],
   "source": []
  },
  {
   "cell_type": "code",
   "execution_count": null,
   "id": "a1d57ef4",
   "metadata": {},
   "outputs": [],
   "source": []
  },
  {
   "cell_type": "code",
   "execution_count": null,
   "id": "7147236e",
   "metadata": {},
   "outputs": [],
   "source": []
  },
  {
   "cell_type": "code",
   "execution_count": null,
   "id": "dfaaba5f",
   "metadata": {},
   "outputs": [],
   "source": []
  },
  {
   "cell_type": "code",
   "execution_count": null,
   "id": "3a98716b",
   "metadata": {},
   "outputs": [],
   "source": []
  }
 ],
 "metadata": {
  "kernelspec": {
   "display_name": "Python 3 (ipykernel)",
   "language": "python",
   "name": "python3"
  },
  "language_info": {
   "codemirror_mode": {
    "name": "ipython",
    "version": 3
   },
   "file_extension": ".py",
   "mimetype": "text/x-python",
   "name": "python",
   "nbconvert_exporter": "python",
   "pygments_lexer": "ipython3",
   "version": "3.11.5"
  }
 },
 "nbformat": 4,
 "nbformat_minor": 5
}
