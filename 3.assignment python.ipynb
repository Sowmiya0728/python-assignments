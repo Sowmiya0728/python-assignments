{
 "cells": [
  {
   "cell_type": "code",
   "execution_count": 5,
   "id": "c8412de3",
   "metadata": {},
   "outputs": [
    {
     "name": "stdout",
     "output_type": "stream",
     "text": [
      "Value=10\n",
      "correct\n"
     ]
    }
   ],
   "source": [
    "i=int(input(\"Value=\"))\n",
    "if(i==10):\n",
    "    print(\"correct\")"
   ]
  },
  {
   "cell_type": "code",
   "execution_count": 6,
   "id": "51278bbd",
   "metadata": {},
   "outputs": [
    {
     "name": "stdout",
     "output_type": "stream",
     "text": [
      "Enter the password:HOPE@123\n",
      " Your password is correct\n"
     ]
    }
   ],
   "source": [
    "password=input(\"Enter the password:\")\n",
    "if password == \"HOPE@123\":\n",
    "    print(\" Your password is correct\")\n",
    "else:\n",
    "    print(\" Your password is incorrect\")\n"
   ]
  },
  {
   "cell_type": "markdown",
   "id": "c7400b21",
   "metadata": {},
   "source": [
    "age<15--->children\n",
    "age<30--->adult\n",
    "age<55--->citizen\n",
    "age<70--->senior citizen"
   ]
  },
  {
   "cell_type": "code",
   "execution_count": 7,
   "id": "7eb81b83",
   "metadata": {},
   "outputs": [
    {
     "name": "stdout",
     "output_type": "stream",
     "text": [
      "age:20\n",
      "adult\n"
     ]
    }
   ],
   "source": [
    "age=int(input(\"age:\"))\n",
    "if(age<15):\n",
    "    print(\"children\")\n",
    "elif(age<30):\n",
    "    print(\"adult\")\n",
    "elif(age<55):\n",
    "    print(\"citizen\")\n",
    "else:\n",
    "    print(\"senior citizen\")"
   ]
  },
  {
   "cell_type": "code",
   "execution_count": 11,
   "id": "b836b4ac",
   "metadata": {},
   "outputs": [
    {
     "name": "stdout",
     "output_type": "stream",
     "text": [
      "Enter any number: 1\n",
      "No is postive\n"
     ]
    }
   ],
   "source": [
    "num=int(input(\"Enter any number: \"))\n",
    "if(num>0):\n",
    "    print(\"No is postive\")\n",
    "else:\n",
    "    print(\"No is negative\")"
   ]
  },
  {
   "cell_type": "code",
   "execution_count": 16,
   "id": "906440cb",
   "metadata": {},
   "outputs": [
    {
     "name": "stdout",
     "output_type": "stream",
     "text": [
      "Enter the number to check:22\n",
      "No is not divisible by 5\n"
     ]
    }
   ],
   "source": [
    "num=int(input(\"Enter the number to check:\"))\n",
    "if(num%5==0):\n",
    "    print(\"divisible by 5\")\n",
    "else:\n",
    "    print(\"No is not divisible by 5\")"
   ]
  },
  {
   "cell_type": "code",
   "execution_count": null,
   "id": "bed7dceb",
   "metadata": {},
   "outputs": [],
   "source": []
  }
 ],
 "metadata": {
  "kernelspec": {
   "display_name": "Python 3 (ipykernel)",
   "language": "python",
   "name": "python3"
  },
  "language_info": {
   "codemirror_mode": {
    "name": "ipython",
    "version": 3
   },
   "file_extension": ".py",
   "mimetype": "text/x-python",
   "name": "python",
   "nbconvert_exporter": "python",
   "pygments_lexer": "ipython3",
   "version": "3.11.5"
  }
 },
 "nbformat": 4,
 "nbformat_minor": 5
}
